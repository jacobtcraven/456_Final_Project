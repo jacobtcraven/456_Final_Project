{
 "cells": [
  {
   "cell_type": "code",
   "execution_count": 2,
   "metadata": {},
   "outputs": [],
   "source": [
    "# Jacob Craven, Kevin Endrijaitis, Braden Burgener, Adam Rich​\n",
    "# CS 490 AA\n",
    "# Final Project Code\n",
    "\n",
    "import numpy as np"
   ]
  },
  {
   "cell_type": "code",
   "execution_count": 7,
   "metadata": {},
   "outputs": [],
   "source": [
    "def load_data(filename):\n",
    "    with open(filename, 'r') as file:\n",
    "        weights = [float(line.strip()) / 16.0 for line in file]\n",
    "    return weights\n",
    "\n",
    "def knapsack(packages, capacity, package_limit):\n",
    "    # Scale up weights to work with integers (e.g., 1.5 lb → 15)\n",
    "    scale = 10\n",
    "    scaled_packages = [int(p * scale) for p in packages]\n",
    "    scaled_capacity = int(capacity * scale)\n",
    "\n",
    "    num_rows = len(scaled_packages) + 1\n",
    "    num_cols = scaled_capacity + 1\n",
    "    matrix = np.zeros((num_rows, num_cols), dtype=int)\n",
    "\n",
    "    for i in range(1, num_rows):\n",
    "        for j in range(1, num_cols):\n",
    "            if scaled_packages[i-1] <= j:\n",
    "                matrix[i][j] = max(\n",
    "                    matrix[i-1][j],\n",
    "                    matrix[i-1][j - scaled_packages[i-1]] + scaled_packages[i-1]\n",
    "                )\n",
    "            else:\n",
    "                matrix[i][j] = matrix[i-1][j]\n",
    "\n",
    "    current_weight = matrix[-1][-1]\n",
    "    current_deliveries = []\n",
    "    j = scaled_capacity\n",
    "    for i in range(num_rows - 1, 0, -1):\n",
    "        if current_weight <= 0:\n",
    "            break\n",
    "        if current_weight == matrix[i-1][j]:\n",
    "            continue\n",
    "        else:\n",
    "            current_deliveries.append(packages[i-1])\n",
    "            current_weight -= scaled_packages[i-1]\n",
    "            j -= scaled_packages[i-1]\n",
    "\n",
    "    current_deliveries.reverse()\n",
    "    if len(current_deliveries) > package_limit:\n",
    "        current_deliveries = current_deliveries[:package_limit]\n",
    "    for package in current_deliveries:\n",
    "        packages.remove(package)\n",
    "    return current_deliveries\n",
    "\n",
    "\n",
    "\n",
    "\n",
    "def greedy(packages, capacity):\n",
    "    current_weight = 0\n",
    "    current_deliveries = []\n",
    "    for package in packages:\n",
    "        if current_weight + package <= capacity:\n",
    "            current_weight += package\n",
    "            current_deliveries.append(package)\n",
    "            packages.remove(package)\n",
    "        else:\n",
    "            break "
   ]
  },
  {
   "cell_type": "code",
   "execution_count": 8,
   "metadata": {},
   "outputs": [
    {
     "name": "stdout",
     "output_type": "stream",
     "text": [
      "8552\n"
     ]
    },
    {
     "data": {
      "text/plain": [
       "[10.7, 4.0]"
      ]
     },
     "execution_count": 8,
     "metadata": {},
     "output_type": "execute_result"
    }
   ],
   "source": [
    "weights = load_data(\"amazon_weights.txt\")\n",
    "print(len(weights))\n",
    "knapsack(weights, 20, 2)"
   ]
  }
 ],
 "metadata": {
  "kernelspec": {
   "display_name": "456final",
   "language": "python",
   "name": "python3"
  },
  "language_info": {
   "codemirror_mode": {
    "name": "ipython",
    "version": 3
   },
   "file_extension": ".py",
   "mimetype": "text/x-python",
   "name": "python",
   "nbconvert_exporter": "python",
   "pygments_lexer": "ipython3",
   "version": "3.13.2"
  }
 },
 "nbformat": 4,
 "nbformat_minor": 2
}
