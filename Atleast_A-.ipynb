{
 "cells": [
  {
   "cell_type": "code",
   "execution_count": 70,
   "metadata": {},
   "outputs": [],
   "source": [
    "# Jacob Craven, Kevin Endrijaitis, Braden Burgener, Adam Rich​\n",
    "# CS 490 AA\n",
    "# Final Project Code\n",
    "\n",
    "import numpy as np\n",
    "import math"
   ]
  },
  {
   "cell_type": "code",
   "execution_count": 71,
   "metadata": {},
   "outputs": [],
   "source": [
    "def load_data(filename):\n",
    "    with open(filename, 'r') as file:\n",
    "        lines = file.readlines()\n",
    "        weights = []\n",
    "        for line in lines:\n",
    "            weights.append(line.strip())\n",
    "        file.close()\n",
    "    for i in range(len(weights)):\n",
    "        weights[i] = math.floor(float(weights[i]))\n",
    "        if weights[i] <= 0:\n",
    "            weights[i] = 1\n",
    "    return weights\n",
    "\n",
    "def knapsack(packages, capacity, package_limit):\n",
    "    num_rows = len(packages) + 1\n",
    "    num_cols = capacity + 1\n",
    "    matrix = np.zeros((num_rows, num_cols), dtype=int)\n",
    "    \n",
    "\n",
    "    for i in range(1, num_rows):\n",
    "        for j in range(1, num_cols):\n",
    "            # print(type(packages[i-1]), j)\n",
    "            if int(packages[i-1]) <= j:\n",
    "                matrix[i][j] = max(matrix[i-1][j], matrix[i-1][j-int(packages[i-1])] + packages[i-1])\n",
    "            else:\n",
    "                matrix[i][j] = matrix[i-1][j]\n",
    "    current_weight = matrix[-1][-1]\n",
    "    current_deliveries = []\n",
    "    for i in range(num_rows - 1, 0, -1):\n",
    "        if current_weight <= 0:\n",
    "            break\n",
    "        if current_weight == matrix[i-1][j]:\n",
    "            continue\n",
    "        else:\n",
    "            current_deliveries.append(packages[i-1])\n",
    "            current_weight -= packages[i-1]\n",
    "    current_deliveries.reverse()\n",
    "    if len(current_deliveries) > package_limit:\n",
    "        current_deliveries = current_deliveries[:package_limit]\n",
    "    for package in current_deliveries:\n",
    "        packages.remove(package)\n",
    "    return current_deliveries\n",
    "\n",
    "\n",
    "def greedy(packages, capacity):\n",
    "    current_weight = 0\n",
    "    current_deliveries = []\n",
    "    for package in packages:\n",
    "        if current_weight + package <= capacity:\n",
    "            current_weight += package\n",
    "            current_deliveries.append(package)\n",
    "            packages.remove(package)\n",
    "        else:\n",
    "            break \n",
    "    return current_deliveries"
   ]
  },
  {
   "cell_type": "code",
   "execution_count": 72,
   "metadata": {},
   "outputs": [],
   "source": [
    "def exp1():\n",
    "    pass\n",
    "\n",
    "def exp2():\n",
    "    pass\n",
    "\n",
    "def exp3():\n",
    "    pass"
   ]
  },
  {
   "cell_type": "code",
   "execution_count": 73,
   "metadata": {},
   "outputs": [
    {
     "name": "stdout",
     "output_type": "stream",
     "text": [
      "8552\n",
      "[171, 12, 13, 9, 24, 33, 1, 46, 4, 1]\n"
     ]
    }
   ],
   "source": [
    "weights = load_data(\"amazon_weights.txt\")\n",
    "print(len(weights))\n",
    "ans = greedy(weights, 320)\n",
    "print(ans)"
   ]
  }
 ],
 "metadata": {
  "kernelspec": {
   "display_name": "456Final",
   "language": "python",
   "name": "python3"
  },
  "language_info": {
   "codemirror_mode": {
    "name": "ipython",
    "version": 3
   },
   "file_extension": ".py",
   "mimetype": "text/x-python",
   "name": "python",
   "nbconvert_exporter": "python",
   "pygments_lexer": "ipython3",
   "version": "3.13.2"
  }
 },
 "nbformat": 4,
 "nbformat_minor": 2
}
