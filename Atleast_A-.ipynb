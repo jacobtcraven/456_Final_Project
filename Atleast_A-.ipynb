{
 "cells": [
  {
   "cell_type": "code",
   "execution_count": 17,
   "metadata": {},
   "outputs": [],
   "source": [
    "# Jacob Craven, Kevin Endrijaitis, Braden Burgener, Adam Rich​\n",
    "# CS 490 AA\n",
    "# Final Project Code\n",
    "\n",
    "import numpy as np\n",
    "import math"
   ]
  },
  {
   "cell_type": "code",
   "execution_count": 22,
   "metadata": {},
   "outputs": [],
   "source": [
    "def load_data(filename):\n",
    "    with open(filename, 'r') as file:\n",
    "        lines = file.readlines()\n",
    "        weights = []\n",
    "        for line in lines:\n",
    "            weights.append(line.strip())\n",
    "        file.close()\n",
    "    for i in range(len(weights)):\n",
    "        weights[i] = math.floor(float(weights[i]))\n",
    "        if weights[i] <= 0:\n",
    "            weights[i] = 1\n",
    "    return weights\n",
    "\n",
    "def knapsack(packages, capacity, package_limit):\n",
    "    num_rows = len(packages) + 1\n",
    "    num_cols = capacity + 1\n",
    "    matrix = np.zeros((num_rows, num_cols), dtype=int)\n",
    "    packages.sort(reverse=True)\n",
    "\n",
    "    for i in range(1, num_rows):\n",
    "        for j in range(1, num_cols):\n",
    "            # print(type(packages[i-1]), j)\n",
    "            if int(packages[i-1]) <= j:\n",
    "                matrix[i][j] = max(matrix[i-1][j], matrix[i-1][j-int(packages[i-1])] + packages[i-1])\n",
    "            else:\n",
    "                matrix[i][j] = matrix[i-1][j]\n",
    "    current_weight = matrix[-1][-1]\n",
    "    current_deliveries = []\n",
    "    remaining_package_limit = package_limit\n",
    "    remaining_capacity = capacity\n",
    "    for i in range(num_rows - 1, 0, -1):\n",
    "        if current_weight <= 0 or remaining_package_limit <= 0 or remaining_capacity <= 0:\n",
    "            break\n",
    "        if current_weight == matrix[i-1][remaining_capacity]:\n",
    "            continue\n",
    "        elif remaining_capacity < packages[i-1]:\n",
    "            break\n",
    "        else:\n",
    "            current_deliveries.append(packages[i-1])\n",
    "            current_weight -= packages[i-1]\n",
    "            remaining_package_limit -= 1\n",
    "            remaining_capacity -= packages[i-1]\n",
    "    current_deliveries.reverse()\n",
    "\n",
    "    if len(current_deliveries) > package_limit:\n",
    "        current_deliveries = current_deliveries[:package_limit]\n",
    "    for package in current_deliveries:\n",
    "        packages.remove(package)\n",
    "    return current_deliveries\n",
    "\n",
    "def greedy(packages, capacity, package_limit):\n",
    "    current_weight = 0\n",
    "    current_deliveries = []\n",
    "    for package in packages:\n",
    "        if current_weight + package <= capacity and len(current_deliveries) < package_limit:\n",
    "            current_weight += package\n",
    "            current_deliveries.append(package)\n",
    "            packages.remove(package)\n",
    "        else:\n",
    "            break \n",
    "    return current_deliveries"
   ]
  },
  {
   "cell_type": "code",
   "execution_count": 19,
   "metadata": {},
   "outputs": [],
   "source": [
    "def exp1():\n",
    "    pass\n",
    "\n",
    "def exp2():\n",
    "    pass\n",
    "\n",
    "def exp3():\n",
    "    pass"
   ]
  },
  {
   "cell_type": "code",
   "execution_count": 20,
   "metadata": {},
   "outputs": [
    {
     "name": "stdout",
     "output_type": "stream",
     "text": [
      "8552\n",
      "[171, 12, 13, 9, 24, 33, 1, 46, 4, 1, 11, 21, 25, 3, 23]\n",
      "Total weight:  397\n",
      "Total packages:  15\n",
      "[3, 1, 32, 12, 6, 12, 24, 59, 8, 140, 10, 14, 16, 5, 11]\n",
      "Total weight:  353\n",
      "Total packages:  15\n"
     ]
    }
   ],
   "source": [
    "weights = load_data(\"amazon_weights.txt\")\n",
    "print(len(weights))\n",
    "ans = greedy(weights, 1000, 15)\n",
    "print(ans)\n",
    "print(\"Total weight: \", sum(ans))\n",
    "print(\"Total packages: \", len(ans))\n",
    "ans = knapsack(weights, 1000, 15)\n",
    "print(ans)\n",
    "print(\"Total weight: \", sum(ans))\n",
    "print(\"Total packages: \", len(ans))"
   ]
  },
  {
   "cell_type": "code",
   "execution_count": 23,
   "metadata": {},
   "outputs": [
    {
     "name": "stdout",
     "output_type": "stream",
     "text": [
      "8552\n",
      "[171, 12, 13, 9, 24, 33, 1, 46, 4, 1, 11, 21, 25, 3, 23]\n",
      "Total weight:  397\n",
      "Total packages:  15\n",
      "[252, 250, 249, 249]\n",
      "Total weight:  1000\n",
      "Total packages:  4\n"
     ]
    }
   ],
   "source": [
    "weights = load_data(\"amazon_weights.txt\")\n",
    "print(len(weights))\n",
    "ans = greedy(weights, 1000, 15)\n",
    "print(ans)\n",
    "print(\"Total weight: \", sum(ans))\n",
    "print(\"Total packages: \", len(ans))\n",
    "ans = knapsack(weights, 1000, 15)\n",
    "print(ans)\n",
    "print(\"Total weight: \", sum(ans))\n",
    "print(\"Total packages: \", len(ans))"
   ]
  }
 ],
 "metadata": {
  "kernelspec": {
   "display_name": "456Final",
   "language": "python",
   "name": "python3"
  },
  "language_info": {
   "codemirror_mode": {
    "name": "ipython",
    "version": 3
   },
   "file_extension": ".py",
   "mimetype": "text/x-python",
   "name": "python",
   "nbconvert_exporter": "python",
   "pygments_lexer": "ipython3",
   "version": "3.13.2"
  }
 },
 "nbformat": 4,
 "nbformat_minor": 2
}
