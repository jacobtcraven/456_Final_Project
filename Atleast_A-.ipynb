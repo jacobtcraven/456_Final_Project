{
 "cells": [
  {
   "cell_type": "code",
   "execution_count": 21,
   "metadata": {},
   "outputs": [],
   "source": [
    "# Jacob Craven, Kevin Endrijaitis, Braden Burgener, Adam Rich​\n",
    "# CS 490 AA\n",
    "# Final Project Code\n",
    "\n",
    "import numpy as np"
   ]
  },
  {
   "cell_type": "code",
   "execution_count": null,
   "metadata": {},
   "outputs": [],
   "source": [
    "def load_data(filename):\n",
    "    with open(filename, 'r') as file:\n",
    "        lines = file.readlines()\n",
    "        weights = []\n",
    "        for line in lines:\n",
    "            weights.append(line.strip())\n",
    "        file.close()\n",
    "    return weights\n",
    "\n",
    "def knapsack(packages, capacity, package_limit):\n",
    "    num_rows = len(packages) + 1\n",
    "    num_cols = capacity + 1\n",
    "    matrix = np.zeros((num_rows, num_cols), dtype=int)\n",
    "    for package in packages:\n",
    "        package = float(float(package) / 16.0)\n",
    "\n",
    "    for i in range(1, num_rows):\n",
    "        for j in range(1, num_cols):\n",
    "            print(type(packages[i-1]), j)\n",
    "            if packages[i-1] <= j:\n",
    "                matrix[i][j] = max(matrix[i-1][j], matrix[i-1][j-packages[i-1]] + packages[i-1])\n",
    "            else:\n",
    "                matrix[i][j] = matrix[i-1][j]\n",
    "    current_weight = matrix[-1][-1]\n",
    "    current_deliveries = []\n",
    "    for i in range(num_rows - 1, 0, -1):\n",
    "        if current_weight <= 0:\n",
    "            break\n",
    "        if current_weight == matrix[i-1][j]:\n",
    "            continue\n",
    "        else:\n",
    "            current_deliveries.append(packages[i-1])\n",
    "            current_weight -= packages[i-1]\n",
    "    current_deliveries.reverse()\n",
    "    if len(current_deliveries) > package_limit:\n",
    "        current_deliveries = current_deliveries[:package_limit]\n",
    "    for package in current_deliveries:\n",
    "        packages.remove(package)\n",
    "    return current_deliveries\n",
    "\n",
    "\n",
    "\n",
    "\n",
    "def greedy(packages, capacity):\n",
    "    current_weight = 0\n",
    "    current_deliveries = []\n",
    "    for package in packages:\n",
    "        if current_weight + package <= capacity:\n",
    "            current_weight += package\n",
    "            current_deliveries.append(package)\n",
    "            packages.remove(package)\n",
    "        else:\n",
    "            break "
   ]
  },
  {
   "cell_type": "code",
   "execution_count": 23,
   "metadata": {},
   "outputs": [
    {
     "name": "stdout",
     "output_type": "stream",
     "text": [
      "8552\n",
      "<class 'float'> 1\n"
     ]
    },
    {
     "ename": "TypeError",
     "evalue": "'<=' not supported between instances of 'str' and 'int'",
     "output_type": "error",
     "traceback": [
      "\u001b[31m---------------------------------------------------------------------------\u001b[39m",
      "\u001b[31mTypeError\u001b[39m                                 Traceback (most recent call last)",
      "\u001b[36mCell\u001b[39m\u001b[36m \u001b[39m\u001b[32mIn[23]\u001b[39m\u001b[32m, line 3\u001b[39m\n\u001b[32m      1\u001b[39m weights = load_data(\u001b[33m\"\u001b[39m\u001b[33mamazon_weights.txt\u001b[39m\u001b[33m\"\u001b[39m)\n\u001b[32m      2\u001b[39m \u001b[38;5;28mprint\u001b[39m(\u001b[38;5;28mlen\u001b[39m(weights))\n\u001b[32m----> \u001b[39m\u001b[32m3\u001b[39m \u001b[43mknapsack\u001b[49m\u001b[43m(\u001b[49m\u001b[43mweights\u001b[49m\u001b[43m,\u001b[49m\u001b[43m \u001b[49m\u001b[32;43m20\u001b[39;49m\u001b[43m,\u001b[49m\u001b[43m \u001b[49m\u001b[32;43m2\u001b[39;49m\u001b[43m)\u001b[49m\n",
      "\u001b[36mCell\u001b[39m\u001b[36m \u001b[39m\u001b[32mIn[22]\u001b[39m\u001b[32m, line 20\u001b[39m, in \u001b[36mknapsack\u001b[39m\u001b[34m(packages, capacity, package_limit)\u001b[39m\n\u001b[32m     18\u001b[39m \u001b[38;5;28;01mfor\u001b[39;00m j \u001b[38;5;129;01min\u001b[39;00m \u001b[38;5;28mrange\u001b[39m(\u001b[32m1\u001b[39m, num_cols):\n\u001b[32m     19\u001b[39m     \u001b[38;5;28mprint\u001b[39m(\u001b[38;5;28mtype\u001b[39m(\u001b[38;5;28mfloat\u001b[39m(packages[i-\u001b[32m1\u001b[39m])), j)\n\u001b[32m---> \u001b[39m\u001b[32m20\u001b[39m     \u001b[38;5;28;01mif\u001b[39;00m \u001b[43mpackages\u001b[49m\u001b[43m[\u001b[49m\u001b[43mi\u001b[49m\u001b[43m-\u001b[49m\u001b[32;43m1\u001b[39;49m\u001b[43m]\u001b[49m\u001b[43m \u001b[49m\u001b[43m<\u001b[49m\u001b[43m=\u001b[49m\u001b[43m \u001b[49m\u001b[43mj\u001b[49m:\n\u001b[32m     21\u001b[39m         matrix[i][j] = \u001b[38;5;28mmax\u001b[39m(matrix[i-\u001b[32m1\u001b[39m][j], matrix[i-\u001b[32m1\u001b[39m][j-packages[i-\u001b[32m1\u001b[39m]] + packages[i-\u001b[32m1\u001b[39m])\n\u001b[32m     22\u001b[39m     \u001b[38;5;28;01melse\u001b[39;00m:\n",
      "\u001b[31mTypeError\u001b[39m: '<=' not supported between instances of 'str' and 'int'"
     ]
    }
   ],
   "source": [
    "weights = load_data(\"amazon_weights.txt\")\n",
    "print(len(weights))\n",
    "knapsack(weights, 20, 2)"
   ]
  }
 ],
 "metadata": {
  "kernelspec": {
   "display_name": "456Final",
   "language": "python",
   "name": "python3"
  },
  "language_info": {
   "codemirror_mode": {
    "name": "ipython",
    "version": 3
   },
   "file_extension": ".py",
   "mimetype": "text/x-python",
   "name": "python",
   "nbconvert_exporter": "python",
   "pygments_lexer": "ipython3",
   "version": "3.13.2"
  }
 },
 "nbformat": 4,
 "nbformat_minor": 2
}
